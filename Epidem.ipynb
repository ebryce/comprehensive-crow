{
 "cells": [
  {
   "cell_type": "code",
   "execution_count": 159,
   "metadata": {},
   "outputs": [
    {
     "name": "stdout",
     "output_type": "stream",
     "text": [
      "The autoreload extension is already loaded. To reload it, use:\n",
      "  %reload_ext autoreload\n"
     ]
    }
   ],
   "source": [
    "%load_ext autoreload\n",
    "%autoreload 2\n",
    "\n",
    "import model\n",
    "import importlib as imp\n",
    "\n",
    "import numpy as np#, pandas as pd"
   ]
  },
  {
   "cell_type": "code",
   "execution_count": 161,
   "metadata": {},
   "outputs": [
    {
     "name": "stdout",
     "output_type": "stream",
     "text": [
      "{0: 3, 1: 2, 2: 0, 3: 2, 4: 6, 5: 2, 6: 2, 7: 1, 8: 1, 9: 1}\n",
      "{0: 4, 1: 1, 2: 0, 3: 1, 4: 6, 5: 2, 6: 2, 7: 1, 8: 1, 9: 2}\n",
      "{0: 2, 1: 2, 2: 1, 3: 2, 4: 6, 5: 1, 6: 2, 7: 1, 8: 1, 9: 2}\n",
      "{0: 2, 1: 1, 2: 1, 3: 4, 4: 7, 5: 1, 6: 1, 7: 1, 8: 0, 9: 2}\n",
      "{0: 2, 1: 2, 2: 1, 3: 2, 4: 6, 5: 1, 6: 2, 7: 1, 8: 1, 9: 2}\n",
      "{0: 2, 1: 3, 2: 1, 3: 3, 4: 6, 5: 1, 6: 1, 7: 1, 8: 1, 9: 1}\n",
      "{0: 2, 1: 2, 2: 0, 3: 2, 4: 7, 5: 1, 6: 2, 7: 1, 8: 0, 9: 3}\n",
      "{0: 4, 1: 3, 2: 0, 3: 2, 4: 5, 5: 1, 6: 1, 7: 1, 8: 2, 9: 1}\n",
      "{0: 2, 1: 3, 2: 0, 3: 3, 4: 5, 5: 1, 6: 2, 7: 1, 8: 2, 9: 1}\n",
      "{0: 2, 1: 1, 2: 0, 3: 5, 4: 6, 5: 1, 6: 1, 7: 1, 8: 1, 9: 2}\n"
     ]
    }
   ],
   "source": [
    "imp.reload(model)\n",
    "world = model.World(randomize=True)\n",
    "\n",
    "populations = []\n",
    "for i in range(10):\n",
    "    world.walk()\n",
    "    \n",
    "    print(world.census())\n",
    "\n",
    "#pd.concat()"
   ]
  },
  {
   "cell_type": "code",
   "execution_count": 86,
   "metadata": {},
   "outputs": [
    {
     "data": {
      "text/plain": [
       "0.467540998099347"
      ]
     },
     "execution_count": 86,
     "metadata": {},
     "output_type": "execute_result"
    }
   ],
   "source": [
    "np.random.rand()"
   ]
  },
  {
   "cell_type": "code",
   "execution_count": 13,
   "metadata": {},
   "outputs": [],
   "source": [
    "import numpy as np\n",
    "np.random.shuffle(['a','b'])"
   ]
  }
 ],
 "metadata": {
  "kernelspec": {
   "display_name": "Python 3",
   "language": "python",
   "name": "python3"
  },
  "language_info": {
   "codemirror_mode": {
    "name": "ipython",
    "version": 3
   },
   "file_extension": ".py",
   "mimetype": "text/x-python",
   "name": "python",
   "nbconvert_exporter": "python",
   "pygments_lexer": "ipython3",
   "version": "3.6.8"
  }
 },
 "nbformat": 4,
 "nbformat_minor": 2
}
